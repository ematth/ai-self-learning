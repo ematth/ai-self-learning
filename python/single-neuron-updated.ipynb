{
 "cells": [
  {
   "cell_type": "markdown",
   "id": "4bdf3370",
   "metadata": {},
   "source": [
    "# Single Neuron"
   ]
  },
  {
   "cell_type": "code",
   "execution_count": 1,
   "id": "5f4fa8ca",
   "metadata": {
    "execution": {
     "iopub.execute_input": "2025-07-25T00:54:13.391958Z",
     "iopub.status.busy": "2025-07-25T00:54:13.389784Z",
     "iopub.status.idle": "2025-07-25T00:54:23.868801Z",
     "shell.execute_reply": "2025-07-25T00:54:23.867055Z"
    }
   },
   "outputs": [],
   "source": [
    "import numpy as np, matplotlib.pyplot as plt"
   ]
  },
  {
   "cell_type": "markdown",
   "id": "a12b2da8",
   "metadata": {},
   "source": [
    "## Linear Regression\n",
    "\n",
    "Values based on Professor Bryce's \"Deep Learning\" lecture 04 on Gradient Descent"
   ]
  },
  {
   "cell_type": "code",
   "execution_count": 2,
   "id": "627b34cf",
   "metadata": {
    "execution": {
     "iopub.execute_input": "2025-07-25T00:54:23.883010Z",
     "iopub.status.busy": "2025-07-25T00:54:23.882423Z",
     "iopub.status.idle": "2025-07-25T00:54:24.260564Z",
     "shell.execute_reply": "2025-07-25T00:54:24.259601Z"
    }
   },
   "outputs": [
    {
     "data": {
      "image/png": "[encoded data removed]",
      "text/plain": [
       "<Figure size 432x288 with 1 Axes>"
      ]
     },
     "metadata": {
      "needs_background": "light"
     },
     "output_type": "display_data"
    }
   ],
   "source": [
    "# Generate a random dataset with 1000 points (x, y):\n",
    "NUM_POINTS: int = 4\n",
    "dataset = np.array([[1, 1], [2, 3], [3, 2], [4, 4]])\n",
    "x, y = dataset[:, 0], dataset[:, 1]\n",
    "plt.scatter(x, y) #c=np.random.rand(NUM_POINTS, 3), alpha=0.5)\n",
    "plt.show()"
   ]
  },
  {
   "cell_type": "code",
   "execution_count": 3,
   "id": "76e8794e",
   "metadata": {
    "execution": {
     "iopub.execute_input": "2025-07-25T00:54:24.265896Z",
     "iopub.status.busy": "2025-07-25T00:54:24.265231Z",
     "iopub.status.idle": "2025-07-25T00:54:24.287669Z",
     "shell.execute_reply": "2025-07-25T00:54:24.283644Z"
    }
   },
   "outputs": [],
   "source": [
    "class LinearNeuron:\n",
    "    def __init__(self, lr: float, w: float, b: float, epochs: int = 5) -> None:\n",
    "        self.lr: float = lr\n",
    "        self.w: float = w\n",
    "        self.b: float = b\n",
    "        self.epochs: int = epochs\n",
    "\n",
    "    def forward(self, x: float) -> float:\n",
    "        return self.w * x + self.b\n",
    "\n",
    "    def loss(self, y: float, y_hat: float) -> float:\n",
    "        return sum((y - y_hat)**2)\n",
    "\n",
    "    def gradient(self, y: float, y_hat: float, x: float) -> float:\n",
    "        return (sum(e := -2 * (y - y_hat)), sum(e*x))\n",
    "\n",
    "    def train(self, x: float, y: float) -> None:\n",
    "        print(f\"Initial: w = {self.w}, b = {self.b}\")\n",
    "        for e in range(self.epochs):\n",
    "            \n",
    "            # Compute the predicted output given current parameters\n",
    "            y_hat = self.forward(x)\n",
    "\n",
    "            # Compute the loss between the predicted and actual output\n",
    "            loss = self.loss(y, y_hat)\n",
    "\n",
    "            # Update the parameters using gradient descent\n",
    "            gradient = self.gradient(y, y_hat, x)\n",
    "            self.w -= self.lr * gradient[1]\n",
    "            self.b -= self.lr * gradient[0]\n",
    "\n",
    "            # Print information about the epoch\n",
    "            print(f\"Epoch {e+1}: Loss = {loss:.3f}, w = {self.w:.3f}, b = {self.b:.3f}\")\n",
    "        return loss"
   ]
  },
  {
   "cell_type": "code",
   "execution_count": 4,
   "id": "2baead28",
   "metadata": {
    "execution": {
     "iopub.execute_input": "2025-07-25T00:54:24.294620Z",
     "iopub.status.busy": "2025-07-25T00:54:24.294177Z",
     "iopub.status.idle": "2025-07-25T00:54:24.939357Z",
     "shell.execute_reply": "2025-07-25T00:54:24.934106Z"
    }
   },
   "outputs": [
    {
     "name": "stdout",
     "output_type": "stream",
     "text": [
      "Initial: w = 10, b = -10\n",
      "Epoch 1: Loss = 1050.000, w = 6.580, b = -11.000\n",
      "Epoch 2: Loss = 203.652, w = 5.412, b = -11.236\n",
      "Epoch 3: Loss = 108.322, w = 4.992, b = -11.220\n",
      "Epoch 4: Loss = 95.810, w = 4.821, b = -11.120\n",
      "Epoch 5: Loss = 92.472, w = 4.732, b = -10.995\n",
      "Epoch 6: Loss = 90.192, w = 4.672, b = -10.862\n",
      "Epoch 7: Loss = 88.075, w = 4.621, b = -10.727\n",
      "Epoch 8: Loss = 86.019, w = 4.574, b = -10.593\n",
      "Epoch 9: Loss = 84.014, w = 4.528, b = -10.461\n",
      "Epoch 10: Loss = 82.057, w = 4.483, b = -10.329\n"
     ]
    },
    {
     "data": {
      "image/png": "[encoded data removed]",
      "text/plain": [
       "<Figure size 432x288 with 1 Axes>"
      ]
     },
     "metadata": {
      "needs_background": "light"
     },
     "output_type": "display_data"
    }
   ],
   "source": [
    "w, b = 10, -10\n",
    "N = LinearNeuron(lr=0.01, w=w, b=b, epochs=10)\n",
    "N.train(x, y)\n",
    "\n",
    "plt.scatter(x, y)\n",
    "plt.plot(x, w*x + b, c='green', label='Initial')\n",
    "plt.plot(x, N.forward(x), c='red', label='Trained')\n",
    "plt.legend()\n",
    "plt.show()"
   ]
  },
  {
   "cell_type": "markdown",
   "id": "46171a72",
   "metadata": {},
   "source": [
    "## Logistic Regression (Classification)"
   ]
  },
  {
   "cell_type": "code",
   "execution_count": 5,
   "id": "ea897bd0",
   "metadata": {
    "execution": {
     "iopub.execute_input": "2025-07-25T00:54:24.949052Z",
     "iopub.status.busy": "2025-07-25T00:54:24.948086Z",
     "iopub.status.idle": "2025-07-25T00:54:25.015116Z",
     "shell.execute_reply": "2025-07-25T00:54:25.013249Z"
    }
   },
   "outputs": [],
   "source": [
    "class LogitRegression:\n",
    "    def __init__(self, lr, W, b, epochs):\n",
    "        self.lr = lr\n",
    "        self.W = W\n",
    "        self.b = b\n",
    "        self.epochs = epochs\n",
    "\n",
    "    def sigmoid(self, X):\n",
    "        return 1 / (1 + np.exp(-X))\n",
    "    \n",
    "    def fit(self, X, y):\n",
    "        for i in range(self.epochs):\n",
    "            z = X @ self.W + self.b\n",
    "            y_hat = self.sigmoid(z)\n",
    "            dz = y_hat - y\n",
    "            dw = X.T @ dz\n",
    "            db = np.sum(dz)\n",
    "            self.W -= self.lr * dw\n",
    "            self.b -= self.lr * db\n",
    "        return self.W, self.b\n",
    "    \n",
    "    def predict(self, X):\n",
    "        return np.round(self.sigmoid(X @ self.W + self.b), 0)"
   ]
  },
  {
   "cell_type": "code",
   "execution_count": 6,
   "id": "91f186a1",
   "metadata": {
    "execution": {
     "iopub.execute_input": "2025-07-25T00:54:25.025398Z",
     "iopub.status.busy": "2025-07-25T00:54:25.024665Z",
     "iopub.status.idle": "2025-07-25T00:54:25.047896Z",
     "shell.execute_reply": "2025-07-25T00:54:25.046517Z"
    }
   },
   "outputs": [
    {
     "name": "stdout",
     "output_type": "stream",
     "text": [
      "[1.93014193 0.96018772] 0.9701058181984389\n",
      "[1 1 1 1 1 1]\n",
      "[0 0 1 1 0 1]\n",
      "0.5\n"
     ]
    }
   ],
   "source": [
    "X = np.array([[1, 2], [2, 1], [2, 3], [3, 2], [4, 1], [4, 2]])\n",
    "y = np.array([0, 0, 1, 1, 0, 1])\n",
    "\n",
    "N = LogitRegression(lr=0.001, W=[2, 1], b=1, epochs=10)\n",
    "W, b = N.fit(X, y)\n",
    "print(W, b)\n",
    "print(N.predict(X).astype(int))\n",
    "print(y)\n",
    "print(np.mean(N.predict(X) - y))"
   ]
  },
  {
   "cell_type": "code",
   "execution_count": 7,
   "id": "add7d15d",
   "metadata": {
    "execution": {
     "iopub.execute_input": "2025-07-25T00:54:25.057686Z",
     "iopub.status.busy": "2025-07-25T00:54:25.057035Z",
     "iopub.status.idle": "2025-07-25T00:54:25.477314Z",
     "shell.execute_reply": "2025-07-25T00:54:25.474837Z"
    }
   },
   "outputs": [
    {
     "data": {
      "image/png": "[encoded data removed]",
      "text/plain": [
       "<Figure size 432x288 with 1 Axes>"
      ]
     },
     "metadata": {
      "needs_background": "light"
     },
     "output_type": "display_data"
    }
   ],
   "source": [
    "plt.scatter(X[:, 0], X[:, 1], c=y)\n",
    "plt.plot(W[0]*X[:, 0] + W[1]*X[:, 1] + b, c='red', label='Trained')\n",
    "plt.legend()\n",
    "plt.show()"
   ]
  }
 ],
 "metadata": {
  "kernelspec": {
   "display_name": "Python 3",
   "language": "python",
   "name": "python3"
  },
  "language_info": {
   "codemirror_mode": {
    "name": "ipython",
    "version": 3
   },
   "file_extension": ".py",
   "mimetype": "text/x-python",
   "name": "python",
   "nbconvert_exporter": "python",
   "pygments_lexer": "ipython3",
   "version": "3.9.2"
  }
 },
 "nbformat": 4,
 "nbformat_minor": 5
}
